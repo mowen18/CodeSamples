{
 "cells": [
  {
   "cell_type": "code",
   "execution_count": 14,
   "metadata": {},
   "outputs": [],
   "source": [
    "import pandas as pd\n",
    "import numpy as np\n",
    "import matplotlib\n",
    "import matplotlib.pyplot as plt\n",
    "from pandas import ExcelWriter"
   ]
  },
  {
   "cell_type": "code",
   "execution_count": 2,
   "metadata": {},
   "outputs": [],
   "source": [
    "data = pd.read_excel(r\"C:\\Users\\mjowe\\OneDrive\\Documents\\New folder\\Transactions2017.xlsx\")"
   ]
  },
  {
   "cell_type": "code",
   "execution_count": 3,
   "metadata": {},
   "outputs": [],
   "source": [
    "##Account numbers\n",
    "account_nums = []\n",
    "for i in data[\"Account\"]:\n",
    "    if type(i) == str:###one nan float in data\n",
    "        account_nums.append(int(i[0:4]))\n",
    "account_nums = set(account_nums)"
   ]
  },
  {
   "cell_type": "code",
   "execution_count": 4,
   "metadata": {},
   "outputs": [],
   "source": [
    "##Names of vendors,projects, etc.\n",
    "names = []\n",
    "for i in data[\"Name\"]:\n",
    "    names.append(i)\n",
    "names = set(names)"
   ]
  },
  {
   "cell_type": "code",
   "execution_count": 5,
   "metadata": {},
   "outputs": [],
   "source": [
    "def project_purchases(project):\n",
    "    date = [] #date of purchase\n",
    "    amount = []#purchase amount $\n",
    "    for index, row in data.iterrows():\n",
    "        if type(row['Account']) != str:#ignoring nan\n",
    "            pass\n",
    "        else:\n",
    "            if row['Account'][0:4] == \"6100\":#Account number for Purchases\n",
    "                if row[\"Name\"] == project:\n",
    "                    date.append(row['Date'])\n",
    "                    amount.append(row['Amount'])\n",
    "                        \n",
    "                    Frame = pd.DataFrame(list(zip(date,amount)), columns=[\"Date\", \"Amount\"])\n",
    "    return Frame\n",
    "     "
   ]
  },
  {
   "cell_type": "code",
   "execution_count": 6,
   "metadata": {},
   "outputs": [],
   "source": [
    "Sheridan_3000 = project_purchases('17-1615 3000 N Sheridan')"
   ]
  },
  {
   "cell_type": "code",
   "execution_count": 7,
   "metadata": {},
   "outputs": [],
   "source": [
    "Sheridan_30002 = project_purchases('18-1717 3000 N Sheridan - Phase II')"
   ]
  },
  {
   "cell_type": "code",
   "execution_count": 8,
   "metadata": {},
   "outputs": [],
   "source": [
    "Sheridan_6101E = project_purchases('18-1708 6101 N Sheridan - EAST POINT')"
   ]
  },
  {
   "cell_type": "code",
   "execution_count": 9,
   "metadata": {},
   "outputs": [],
   "source": [
    "Sheridan_6101Planter = project_purchases('17-1606 6101 N. Sheridan (PLANTER)')"
   ]
  },
  {
   "cell_type": "code",
   "execution_count": 10,
   "metadata": {},
   "outputs": [],
   "source": [
    "Sheridan_6101ExtWall = project_purchases('17-1606-B 6101 Sheridan (EXT WALL)')"
   ]
  },
  {
   "cell_type": "code",
   "execution_count": 11,
   "metadata": {},
   "outputs": [],
   "source": [
    "Malibu_6033_17 = project_purchases('17-1611 6033 N Sheridan - MALIBU')"
   ]
  },
  {
   "cell_type": "code",
   "execution_count": 12,
   "metadata": {},
   "outputs": [],
   "source": [
    "Malibu_6033_18 = project_purchases('18-1709 6033 N. Sheridan - MALIBU')"
   ]
  },
  {
   "cell_type": "code",
   "execution_count": 15,
   "metadata": {},
   "outputs": [],
   "source": [
    "writer = ExcelWriter(\"Project Purchases Python.xlsx\")\n",
    "Sheridan_3000.to_excel(writer,'Sheridan_3000')\n",
    "Sheridan_30002.to_excel(writer,'Sheridan_II')\n",
    "Sheridan_6101E.to_excel(writer,'Sheridan_6101E')\n",
    "Sheridan_6101Planter.to_excel(writer,'Sheridan_Planter')\n",
    "Sheridan_6101ExtWall.to_excel(writer, 'Sheridan_ExtWall')\n",
    "Malibu_6033_17.to_excel(writer,\"Malibu17\")\n",
    "Malibu_6033_18.to_excel(writer,\"Malibu18\")\n",
    "writer.save()"
   ]
  },
  {
   "cell_type": "code",
   "execution_count": null,
   "metadata": {},
   "outputs": [],
   "source": []
  }
 ],
 "metadata": {
  "kernelspec": {
   "display_name": "Python 3 (ipykernel)",
   "language": "python",
   "name": "python3"
  },
  "language_info": {
   "codemirror_mode": {
    "name": "ipython",
    "version": 3
   },
   "file_extension": ".py",
   "mimetype": "text/x-python",
   "name": "python",
   "nbconvert_exporter": "python",
   "pygments_lexer": "ipython3",
   "version": "3.8.11"
  }
 },
 "nbformat": 4,
 "nbformat_minor": 2
}
