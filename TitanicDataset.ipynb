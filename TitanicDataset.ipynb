{
 "cells": [
  {
   "cell_type": "markdown",
   "id": "d99b01bb",
   "metadata": {},
   "source": [
    "Analyzing feature importance for survival in Titanic dataset\n",
    "Comparing performance of classification models"
   ]
  },
  {
   "cell_type": "code",
   "execution_count": 118,
   "id": "b5f73c89",
   "metadata": {},
   "outputs": [],
   "source": [
    "import seaborn as sns\n",
    "import pandas as pd\n",
    "import numpy as np\n",
    "from sklearn.model_selection import train_test_split\n",
    "from sklearn.linear_model import LogisticRegression\n",
    "from sklearn.model_selection import GridSearchCV\n",
    "from sklearn.metrics import accuracy_score\n",
    "from sklearn.metrics import classification_report, plot_confusion_matrix\n",
    "from sklearn.metrics import confusion_matrix\n",
    "from sklearn.model_selection import GridSearchCV\n",
    "import matplotlib.pyplot as plt\n",
    "from sklearn.datasets import fetch_openml\n",
    "from sklearn.tree import DecisionTreeClassifier\n",
    "from sklearn.neighbors import KNeighborsClassifier\n",
    "from sklearn.ensemble import RandomForestClassifier\n",
    "from sklearn.svm import SVC\n",
    "from sklearn import metrics\n",
    "from sklearn.preprocessing import LabelEncoder\n",
    "from sklearn.preprocessing import StandardScaler\n",
    "from sklearn.metrics import ConfusionMatrixDisplay"
   ]
  },
  {
   "attachments": {},
   "cell_type": "markdown",
   "id": "8c221c85",
   "metadata": {},
   "source": [
    "\n",
    "## Michael Owen"
   ]
  },
  {
   "attachments": {},
   "cell_type": "markdown",
   "id": "1a9705db",
   "metadata": {},
   "source": [
    "## Exploring, preparing, and testing various classsifiers on the Titanic dataset. \n",
    "- This will be my first deep dive into the Titanic dataset - which is a dataset that I find fascinating as the outcome (survived or not) is clearly correlated to certain features; specifically societal and social variables like: sex, age, family/wealth/class. It isn't a massive dataset, but it is large and balanced enough that it poses as a decent test for classifiers we've explored in this course. It also requires some preprocessing, scaling and encoding - which means I can make use of some of the preprocessing techniques taught throughout the quarter. While this was a horrible tragedy that we wish never occurred, the resulting data from the tragedy makes for an interesting social experiment/analysis/investigation. Additionally, many 'new' datasets nowawdays rely on classifiers that are somewhat of a 'black box'. Here we can explore variables, test their importance by classifier, and make reasonable interpretations. "
   ]
  },
  {
   "cell_type": "code",
   "execution_count": 119,
   "id": "a518c6ff",
   "metadata": {},
   "outputs": [],
   "source": [
    "def plot_feature_importances(model_in, df_in):\n",
    "    n_features = df_in.shape[1]\n",
    "    df_colnames= df_in.columns\n",
    "    plt.barh(np.arange(n_features), model_in.feature_importances_, align='center')\n",
    "    plt.yticks(np.arange(n_features), df_colnames)\n",
    "    plt.xlabel(\"Feature importance\")\n",
    "    plt.ylim(-1, n_features)\n",
    "    plt.show()"
   ]
  },
  {
   "attachments": {},
   "cell_type": "markdown",
   "id": "a7f28114",
   "metadata": {},
   "source": [
    "- The dataset can be retrieved from sklearn.datasets using fetch_openml"
   ]
  },
  {
   "cell_type": "code",
   "execution_count": 120,
   "id": "6c8456cc",
   "metadata": {},
   "outputs": [
    {
     "data": {
      "text/html": [
       "<div>\n",
       "<style scoped>\n",
       "    .dataframe tbody tr th:only-of-type {\n",
       "        vertical-align: middle;\n",
       "    }\n",
       "\n",
       "    .dataframe tbody tr th {\n",
       "        vertical-align: top;\n",
       "    }\n",
       "\n",
       "    .dataframe thead th {\n",
       "        text-align: right;\n",
       "    }\n",
       "</style>\n",
       "<table border=\"1\" class=\"dataframe\">\n",
       "  <thead>\n",
       "    <tr style=\"text-align: right;\">\n",
       "      <th></th>\n",
       "      <th>pclass</th>\n",
       "      <th>name</th>\n",
       "      <th>sex</th>\n",
       "      <th>age</th>\n",
       "      <th>sibsp</th>\n",
       "      <th>parch</th>\n",
       "      <th>ticket</th>\n",
       "      <th>fare</th>\n",
       "      <th>cabin</th>\n",
       "      <th>embarked</th>\n",
       "      <th>boat</th>\n",
       "      <th>body</th>\n",
       "      <th>home.dest</th>\n",
       "      <th>survived</th>\n",
       "    </tr>\n",
       "  </thead>\n",
       "  <tbody>\n",
       "    <tr>\n",
       "      <th>0</th>\n",
       "      <td>1.0</td>\n",
       "      <td>Allen, Miss. Elisabeth Walton</td>\n",
       "      <td>female</td>\n",
       "      <td>29.0000</td>\n",
       "      <td>0.0</td>\n",
       "      <td>0.0</td>\n",
       "      <td>24160</td>\n",
       "      <td>211.3375</td>\n",
       "      <td>B5</td>\n",
       "      <td>S</td>\n",
       "      <td>2</td>\n",
       "      <td>NaN</td>\n",
       "      <td>St Louis, MO</td>\n",
       "      <td>1</td>\n",
       "    </tr>\n",
       "    <tr>\n",
       "      <th>1</th>\n",
       "      <td>1.0</td>\n",
       "      <td>Allison, Master. Hudson Trevor</td>\n",
       "      <td>male</td>\n",
       "      <td>0.9167</td>\n",
       "      <td>1.0</td>\n",
       "      <td>2.0</td>\n",
       "      <td>113781</td>\n",
       "      <td>151.5500</td>\n",
       "      <td>C22 C26</td>\n",
       "      <td>S</td>\n",
       "      <td>11</td>\n",
       "      <td>NaN</td>\n",
       "      <td>Montreal, PQ / Chesterville, ON</td>\n",
       "      <td>1</td>\n",
       "    </tr>\n",
       "    <tr>\n",
       "      <th>2</th>\n",
       "      <td>1.0</td>\n",
       "      <td>Allison, Miss. Helen Loraine</td>\n",
       "      <td>female</td>\n",
       "      <td>2.0000</td>\n",
       "      <td>1.0</td>\n",
       "      <td>2.0</td>\n",
       "      <td>113781</td>\n",
       "      <td>151.5500</td>\n",
       "      <td>C22 C26</td>\n",
       "      <td>S</td>\n",
       "      <td>None</td>\n",
       "      <td>NaN</td>\n",
       "      <td>Montreal, PQ / Chesterville, ON</td>\n",
       "      <td>0</td>\n",
       "    </tr>\n",
       "    <tr>\n",
       "      <th>3</th>\n",
       "      <td>1.0</td>\n",
       "      <td>Allison, Mr. Hudson Joshua Creighton</td>\n",
       "      <td>male</td>\n",
       "      <td>30.0000</td>\n",
       "      <td>1.0</td>\n",
       "      <td>2.0</td>\n",
       "      <td>113781</td>\n",
       "      <td>151.5500</td>\n",
       "      <td>C22 C26</td>\n",
       "      <td>S</td>\n",
       "      <td>None</td>\n",
       "      <td>135.0</td>\n",
       "      <td>Montreal, PQ / Chesterville, ON</td>\n",
       "      <td>0</td>\n",
       "    </tr>\n",
       "    <tr>\n",
       "      <th>4</th>\n",
       "      <td>1.0</td>\n",
       "      <td>Allison, Mrs. Hudson J C (Bessie Waldo Daniels)</td>\n",
       "      <td>female</td>\n",
       "      <td>25.0000</td>\n",
       "      <td>1.0</td>\n",
       "      <td>2.0</td>\n",
       "      <td>113781</td>\n",
       "      <td>151.5500</td>\n",
       "      <td>C22 C26</td>\n",
       "      <td>S</td>\n",
       "      <td>None</td>\n",
       "      <td>NaN</td>\n",
       "      <td>Montreal, PQ / Chesterville, ON</td>\n",
       "      <td>0</td>\n",
       "    </tr>\n",
       "  </tbody>\n",
       "</table>\n",
       "</div>"
      ],
      "text/plain": [
       "   pclass                                             name     sex      age  \\\n",
       "0     1.0                    Allen, Miss. Elisabeth Walton  female  29.0000   \n",
       "1     1.0                   Allison, Master. Hudson Trevor    male   0.9167   \n",
       "2     1.0                     Allison, Miss. Helen Loraine  female   2.0000   \n",
       "3     1.0             Allison, Mr. Hudson Joshua Creighton    male  30.0000   \n",
       "4     1.0  Allison, Mrs. Hudson J C (Bessie Waldo Daniels)  female  25.0000   \n",
       "\n",
       "   sibsp  parch  ticket      fare    cabin embarked  boat   body  \\\n",
       "0    0.0    0.0   24160  211.3375       B5        S     2    NaN   \n",
       "1    1.0    2.0  113781  151.5500  C22 C26        S    11    NaN   \n",
       "2    1.0    2.0  113781  151.5500  C22 C26        S  None    NaN   \n",
       "3    1.0    2.0  113781  151.5500  C22 C26        S  None  135.0   \n",
       "4    1.0    2.0  113781  151.5500  C22 C26        S  None    NaN   \n",
       "\n",
       "                         home.dest survived  \n",
       "0                     St Louis, MO        1  \n",
       "1  Montreal, PQ / Chesterville, ON        1  \n",
       "2  Montreal, PQ / Chesterville, ON        0  \n",
       "3  Montreal, PQ / Chesterville, ON        0  \n",
       "4  Montreal, PQ / Chesterville, ON        0  "
      ]
     },
     "execution_count": 120,
     "metadata": {},
     "output_type": "execute_result"
    }
   ],
   "source": [
    "titanic = fetch_openml('titanic', version=1, as_frame=True)\n",
    "df = titanic['data']\n",
    "df['survived'] = titanic['target']\n",
    "df.head()"
   ]
  },
  {
   "cell_type": "code",
   "execution_count": 121,
   "id": "853e80bb",
   "metadata": {},
   "outputs": [
    {
     "name": "stdout",
     "output_type": "stream",
     "text": [
      "<class 'pandas.core.frame.DataFrame'>\n",
      "RangeIndex: 1309 entries, 0 to 1308\n",
      "Data columns (total 14 columns):\n",
      " #   Column     Non-Null Count  Dtype   \n",
      "---  ------     --------------  -----   \n",
      " 0   pclass     1309 non-null   float64 \n",
      " 1   name       1309 non-null   object  \n",
      " 2   sex        1309 non-null   category\n",
      " 3   age        1046 non-null   float64 \n",
      " 4   sibsp      1309 non-null   float64 \n",
      " 5   parch      1309 non-null   float64 \n",
      " 6   ticket     1309 non-null   object  \n",
      " 7   fare       1308 non-null   float64 \n",
      " 8   cabin      295 non-null    object  \n",
      " 9   embarked   1307 non-null   category\n",
      " 10  boat       486 non-null    object  \n",
      " 11  body       121 non-null    float64 \n",
      " 12  home.dest  745 non-null    object  \n",
      " 13  survived   1309 non-null   category\n",
      "dtypes: category(3), float64(6), object(5)\n",
      "memory usage: 116.8+ KB\n"
     ]
    }
   ],
   "source": [
    "df.info()"
   ]
  },
  {
   "attachments": {},
   "cell_type": "markdown",
   "id": "5095b1f5",
   "metadata": {},
   "source": [
    "### Check for nulls: \n",
    "- Many nulls for age, cabin, boat, body, home.dest\n",
    "- Some of these features with higher amounts of nulls can likely be dropped. While certain features like age can be scaled according to the rest of the dataset"
   ]
  },
  {
   "cell_type": "code",
   "execution_count": 122,
   "id": "30ef7ca5",
   "metadata": {},
   "outputs": [
    {
     "data": {
      "text/plain": [
       "pclass          0\n",
       "name            0\n",
       "sex             0\n",
       "age           263\n",
       "sibsp           0\n",
       "parch           0\n",
       "ticket          0\n",
       "fare            1\n",
       "cabin        1014\n",
       "embarked        2\n",
       "boat          823\n",
       "body         1188\n",
       "home.dest     564\n",
       "survived        0\n",
       "dtype: int64"
      ]
     },
     "execution_count": 122,
     "metadata": {},
     "output_type": "execute_result"
    }
   ],
   "source": [
    "df.isnull().sum()"
   ]
  },
  {
   "attachments": {},
   "cell_type": "markdown",
   "id": "56603f69",
   "metadata": {},
   "source": [
    "### Visualize rate of missing values per variable:"
   ]
  },
  {
   "cell_type": "code",
   "execution_count": 123,
   "id": "d7f74eef",
   "metadata": {},
   "outputs": [
    {
     "data": {
      "image/png": "[encoded data removed]",
      "text/plain": [
       "<Figure size 720x432 with 1 Axes>"
      ]
     },
     "metadata": {
      "needs_background": "light"
     },
     "output_type": "display_data"
    }
   ],
   "source": [
    "nullVals = pd.DataFrame(df.isnull().sum() / len(df) * 100)\n",
    "nullVals.plot(kind='bar',title='Missing features percentage', ylabel='percentage %',figsize=(10,6))\n",
    "plt.show()"
   ]
  },
  {
   "cell_type": "code",
   "execution_count": 124,
   "id": "e136071f",
   "metadata": {},
   "outputs": [
    {
     "data": {
      "text/html": [
       "<div>\n",
       "<style scoped>\n",
       "    .dataframe tbody tr th:only-of-type {\n",
       "        vertical-align: middle;\n",
       "    }\n",
       "\n",
       "    .dataframe tbody tr th {\n",
       "        vertical-align: top;\n",
       "    }\n",
       "\n",
       "    .dataframe thead th {\n",
       "        text-align: right;\n",
       "    }\n",
       "</style>\n",
       "<table border=\"1\" class=\"dataframe\">\n",
       "  <thead>\n",
       "    <tr style=\"text-align: right;\">\n",
       "      <th></th>\n",
       "      <th>pclass</th>\n",
       "      <th>age</th>\n",
       "      <th>sibsp</th>\n",
       "      <th>parch</th>\n",
       "      <th>fare</th>\n",
       "      <th>body</th>\n",
       "    </tr>\n",
       "  </thead>\n",
       "  <tbody>\n",
       "    <tr>\n",
       "      <th>count</th>\n",
       "      <td>1309.000000</td>\n",
       "      <td>1046.000000</td>\n",
       "      <td>1309.000000</td>\n",
       "      <td>1309.000000</td>\n",
       "      <td>1308.000000</td>\n",
       "      <td>121.000000</td>\n",
       "    </tr>\n",
       "    <tr>\n",
       "      <th>mean</th>\n",
       "      <td>2.294882</td>\n",
       "      <td>29.881135</td>\n",
       "      <td>0.498854</td>\n",
       "      <td>0.385027</td>\n",
       "      <td>33.295479</td>\n",
       "      <td>160.809917</td>\n",
       "    </tr>\n",
       "    <tr>\n",
       "      <th>std</th>\n",
       "      <td>0.837836</td>\n",
       "      <td>14.413500</td>\n",
       "      <td>1.041658</td>\n",
       "      <td>0.865560</td>\n",
       "      <td>51.758668</td>\n",
       "      <td>97.696922</td>\n",
       "    </tr>\n",
       "    <tr>\n",
       "      <th>min</th>\n",
       "      <td>1.000000</td>\n",
       "      <td>0.166700</td>\n",
       "      <td>0.000000</td>\n",
       "      <td>0.000000</td>\n",
       "      <td>0.000000</td>\n",
       "      <td>1.000000</td>\n",
       "    </tr>\n",
       "    <tr>\n",
       "      <th>25%</th>\n",
       "      <td>2.000000</td>\n",
       "      <td>21.000000</td>\n",
       "      <td>0.000000</td>\n",
       "      <td>0.000000</td>\n",
       "      <td>7.895800</td>\n",
       "      <td>72.000000</td>\n",
       "    </tr>\n",
       "    <tr>\n",
       "      <th>50%</th>\n",
       "      <td>3.000000</td>\n",
       "      <td>28.000000</td>\n",
       "      <td>0.000000</td>\n",
       "      <td>0.000000</td>\n",
       "      <td>14.454200</td>\n",
       "      <td>155.000000</td>\n",
       "    </tr>\n",
       "    <tr>\n",
       "      <th>75%</th>\n",
       "      <td>3.000000</td>\n",
       "      <td>39.000000</td>\n",
       "      <td>1.000000</td>\n",
       "      <td>0.000000</td>\n",
       "      <td>31.275000</td>\n",
       "      <td>256.000000</td>\n",
       "    </tr>\n",
       "    <tr>\n",
       "      <th>max</th>\n",
       "      <td>3.000000</td>\n",
       "      <td>80.000000</td>\n",
       "      <td>8.000000</td>\n",
       "      <td>9.000000</td>\n",
       "      <td>512.329200</td>\n",
       "      <td>328.000000</td>\n",
       "    </tr>\n",
       "  </tbody>\n",
       "</table>\n",
       "</div>"
      ],
      "text/plain": [
       "            pclass          age        sibsp        parch         fare  \\\n",
       "count  1309.000000  1046.000000  1309.000000  1309.000000  1308.000000   \n",
       "mean      2.294882    29.881135     0.498854     0.385027    33.295479   \n",
       "std       0.837836    14.413500     1.041658     0.865560    51.758668   \n",
       "min       1.000000     0.166700     0.000000     0.000000     0.000000   \n",
       "25%       2.000000    21.000000     0.000000     0.000000     7.895800   \n",
       "50%       3.000000    28.000000     0.000000     0.000000    14.454200   \n",
       "75%       3.000000    39.000000     1.000000     0.000000    31.275000   \n",
       "max       3.000000    80.000000     8.000000     9.000000   512.329200   \n",
       "\n",
       "             body  \n",
       "count  121.000000  \n",
       "mean   160.809917  \n",
       "std     97.696922  \n",
       "min      1.000000  \n",
       "25%     72.000000  \n",
       "50%    155.000000  \n",
       "75%    256.000000  \n",
       "max    328.000000  "
      ]
     },
     "execution_count": 124,
     "metadata": {},
     "output_type": "execute_result"
    }
   ],
   "source": [
    "df.describe()"
   ]
  },
  {
   "attachments": {},
   "cell_type": "markdown",
   "id": "53fe555e",
   "metadata": {},
   "source": [
    "#### Using Parch and sibsP we should be able to determine whether passenger has family. Will do this later."
   ]
  },
  {
   "cell_type": "code",
   "execution_count": 125,
   "id": "35d2446e",
   "metadata": {},
   "outputs": [
    {
     "data": {
      "image/png": "[encoded data removed]",
      "text/plain": [
       "<Figure size 720x432 with 2 Axes>"
      ]
     },
     "metadata": {
      "needs_background": "light"
     },
     "output_type": "display_data"
    }
   ],
   "source": [
    "plt.figure(figsize=(10,6))\n",
    "sns.heatmap(df.corr())\n",
    "plt.show()"
   ]
  },
  {
   "cell_type": "code",
   "execution_count": 126,
   "id": "c79740c1",
   "metadata": {},
   "outputs": [
    {
     "data": {
      "text/plain": [
       "0    809\n",
       "1    500\n",
       "Name: survived, dtype: int64"
      ]
     },
     "execution_count": 126,
     "metadata": {},
     "output_type": "execute_result"
    }
   ],
   "source": [
    "labelCounts = df.survived.value_counts()\n",
    "labelCounts"
   ]
  },
  {
   "attachments": {},
   "cell_type": "markdown",
   "id": "6179cd9b",
   "metadata": {},
   "source": [
    "### In this dataset, 500 people survived while 809 did not\n",
    "#### Visualize this count via bar plot:"
   ]
  },
  {
   "cell_type": "code",
   "execution_count": 127,
   "id": "509b4eef",
   "metadata": {},
   "outputs": [
    {
     "data": {
      "image/png": "[encoded data removed]",
      "text/plain": [
       "<Figure size 720x432 with 1 Axes>"
      ]
     },
     "metadata": {
      "needs_background": "light"
     },
     "output_type": "display_data"
    }
   ],
   "source": [
    "plt.figure(figsize=(10,6))\n",
    "sns.barplot(x = labelCounts.index, y= labelCounts.values, alpha = 0.9)\n",
    "plt.xlabel('Survival by Count (1 = survived)')\n",
    "plt.ylabel('Count')\n",
    "plt.title('Passsenger Survival')\n",
    "plt.show()"
   ]
  },
  {
   "attachments": {},
   "cell_type": "markdown",
   "id": "07bdac69",
   "metadata": {},
   "source": [
    "### Dropping variables that are either not important and/or have too many missing values"
   ]
  },
  {
   "cell_type": "code",
   "execution_count": 128,
   "id": "572c5ff6",
   "metadata": {},
   "outputs": [
    {
     "data": {
      "text/plain": [
       "pclass        0\n",
       "name          0\n",
       "sex           0\n",
       "age         263\n",
       "sibsp         0\n",
       "parch         0\n",
       "fare          1\n",
       "embarked      2\n",
       "survived      0\n",
       "dtype: int64"
      ]
     },
     "execution_count": 128,
     "metadata": {},
     "output_type": "execute_result"
    }
   ],
   "source": [
    "df.drop(labels = [\"cabin\", \"ticket\",\"body\",\"boat\",\"home.dest\"], axis = 1, inplace = True)\n",
    "df.isnull().sum()"
   ]
  },
  {
   "cell_type": "code",
   "execution_count": 129,
   "id": "6e8f30ac",
   "metadata": {},
   "outputs": [
    {
     "data": {
      "text/html": [
       "<div>\n",
       "<style scoped>\n",
       "    .dataframe tbody tr th:only-of-type {\n",
       "        vertical-align: middle;\n",
       "    }\n",
       "\n",
       "    .dataframe tbody tr th {\n",
       "        vertical-align: top;\n",
       "    }\n",
       "\n",
       "    .dataframe thead th {\n",
       "        text-align: right;\n",
       "    }\n",
       "</style>\n",
       "<table border=\"1\" class=\"dataframe\">\n",
       "  <thead>\n",
       "    <tr style=\"text-align: right;\">\n",
       "      <th></th>\n",
       "      <th>pclass</th>\n",
       "      <th>name</th>\n",
       "      <th>sex</th>\n",
       "      <th>age</th>\n",
       "      <th>sibsp</th>\n",
       "      <th>parch</th>\n",
       "      <th>fare</th>\n",
       "      <th>embarked</th>\n",
       "      <th>survived</th>\n",
       "    </tr>\n",
       "  </thead>\n",
       "  <tbody>\n",
       "    <tr>\n",
       "      <th>0</th>\n",
       "      <td>1.0</td>\n",
       "      <td>Allen, Miss. Elisabeth Walton</td>\n",
       "      <td>female</td>\n",
       "      <td>29.0000</td>\n",
       "      <td>0.0</td>\n",
       "      <td>0.0</td>\n",
       "      <td>211.3375</td>\n",
       "      <td>S</td>\n",
       "      <td>1</td>\n",
       "    </tr>\n",
       "    <tr>\n",
       "      <th>1</th>\n",
       "      <td>1.0</td>\n",
       "      <td>Allison, Master. Hudson Trevor</td>\n",
       "      <td>male</td>\n",
       "      <td>0.9167</td>\n",
       "      <td>1.0</td>\n",
       "      <td>2.0</td>\n",
       "      <td>151.5500</td>\n",
       "      <td>S</td>\n",
       "      <td>1</td>\n",
       "    </tr>\n",
       "    <tr>\n",
       "      <th>2</th>\n",
       "      <td>1.0</td>\n",
       "      <td>Allison, Miss. Helen Loraine</td>\n",
       "      <td>female</td>\n",
       "      <td>2.0000</td>\n",
       "      <td>1.0</td>\n",
       "      <td>2.0</td>\n",
       "      <td>151.5500</td>\n",
       "      <td>S</td>\n",
       "      <td>0</td>\n",
       "    </tr>\n",
       "    <tr>\n",
       "      <th>3</th>\n",
       "      <td>1.0</td>\n",
       "      <td>Allison, Mr. Hudson Joshua Creighton</td>\n",
       "      <td>male</td>\n",
       "      <td>30.0000</td>\n",
       "      <td>1.0</td>\n",
       "      <td>2.0</td>\n",
       "      <td>151.5500</td>\n",
       "      <td>S</td>\n",
       "      <td>0</td>\n",
       "    </tr>\n",
       "    <tr>\n",
       "      <th>4</th>\n",
       "      <td>1.0</td>\n",
       "      <td>Allison, Mrs. Hudson J C (Bessie Waldo Daniels)</td>\n",
       "      <td>female</td>\n",
       "      <td>25.0000</td>\n",
       "      <td>1.0</td>\n",
       "      <td>2.0</td>\n",
       "      <td>151.5500</td>\n",
       "      <td>S</td>\n",
       "      <td>0</td>\n",
       "    </tr>\n",
       "  </tbody>\n",
       "</table>\n",
       "</div>"
      ],
      "text/plain": [
       "   pclass                                             name     sex      age  \\\n",
       "0     1.0                    Allen, Miss. Elisabeth Walton  female  29.0000   \n",
       "1     1.0                   Allison, Master. Hudson Trevor    male   0.9167   \n",
       "2     1.0                     Allison, Miss. Helen Loraine  female   2.0000   \n",
       "3     1.0             Allison, Mr. Hudson Joshua Creighton    male  30.0000   \n",
       "4     1.0  Allison, Mrs. Hudson J C (Bessie Waldo Daniels)  female  25.0000   \n",
       "\n",
       "   sibsp  parch      fare embarked survived  \n",
       "0    0.0    0.0  211.3375        S        1  \n",
       "1    1.0    2.0  151.5500        S        1  \n",
       "2    1.0    2.0  151.5500        S        0  \n",
       "3    1.0    2.0  151.5500        S        0  \n",
       "4    1.0    2.0  151.5500        S        0  "
      ]
     },
     "execution_count": 129,
     "metadata": {},
     "output_type": "execute_result"
    }
   ],
   "source": [
    "df.head()"
   ]
  },
  {
   "attachments": {},
   "cell_type": "markdown",
   "id": "fa6c646b",
   "metadata": {},
   "source": [
    "### Based on the below plot It appears that most people were between the ages of 20 and 30. Will confirm by taking the mean and median (median should be more representive)"
   ]
  },
  {
   "cell_type": "code",
   "execution_count": 130,
   "id": "4a1447ab",
   "metadata": {},
   "outputs": [
    {
     "data": {
      "image/png": "[encoded data removed]",
      "text/plain": [
       "<Figure size 720x432 with 1 Axes>"
      ]
     },
     "metadata": {
      "needs_background": "light"
     },
     "output_type": "display_data"
    }
   ],
   "source": [
    "plt.figure(figsize=(10,6))\n",
    "sns.histplot(x='age', hue = 'sex', data = df)\n",
    "plt.show()"
   ]
  },
  {
   "cell_type": "code",
   "execution_count": 131,
   "id": "42aae1fb",
   "metadata": {},
   "outputs": [
    {
     "name": "stdout",
     "output_type": "stream",
     "text": [
      "Mean age: 29.8811345124283\n",
      "Median age: 28.0\n"
     ]
    }
   ],
   "source": [
    "print(\"Mean age:\",df['age'].mean())\n",
    "print(\"Median age:\",df['age'].median())"
   ]
  },
  {
   "cell_type": "code",
   "execution_count": 132,
   "id": "20b2e3e5",
   "metadata": {},
   "outputs": [
    {
     "data": {
      "text/plain": [
       "S    914\n",
       "C    270\n",
       "Q    123\n",
       "Name: embarked, dtype: int64"
      ]
     },
     "execution_count": 132,
     "metadata": {},
     "output_type": "execute_result"
    }
   ],
   "source": [
    "df.embarked.value_counts()"
   ]
  },
  {
   "attachments": {},
   "cell_type": "markdown",
   "id": "a9d71e8b",
   "metadata": {},
   "source": [
    "### Now we will do some more pre-processsing to handle remaining missing values, categorical values, etc:\n",
    "- Since S is clearly the most frequent port of embarkment (shown above), we will use that to fill Na's for that variable\n",
    "- Median age for missing age variable\n",
    "- Median fare for missing fares"
   ]
  },
  {
   "cell_type": "code",
   "execution_count": 133,
   "id": "2f2d3fd5",
   "metadata": {},
   "outputs": [],
   "source": [
    "df[\"age\"].fillna(df[\"age\"].median(), inplace = True)\n",
    "df[\"fare\"].fillna(df[\"fare\"].median(), inplace = True)\n",
    "df[\"embarked\"].fillna(\"S\", inplace = True)"
   ]
  },
  {
   "cell_type": "code",
   "execution_count": 134,
   "id": "9f8bc198",
   "metadata": {},
   "outputs": [
    {
     "data": {
      "text/plain": [
       "pclass      0\n",
       "name        0\n",
       "sex         0\n",
       "age         0\n",
       "sibsp       0\n",
       "parch       0\n",
       "fare        0\n",
       "embarked    0\n",
       "survived    0\n",
       "dtype: int64"
      ]
     },
     "execution_count": 134,
     "metadata": {},
     "output_type": "execute_result"
    }
   ],
   "source": [
    "df.isnull().sum()"
   ]
  },
  {
   "attachments": {},
   "cell_type": "markdown",
   "id": "7da9546e",
   "metadata": {},
   "source": [
    "### Survival rate by gender, as a distribution:"
   ]
  },
  {
   "cell_type": "code",
   "execution_count": 135,
   "id": "8c5aeab9",
   "metadata": {},
   "outputs": [
    {
     "data": {
      "image/png": "[encoded data removed]",
      "text/plain": [
       "<Figure size 720x432 with 1 Axes>"
      ]
     },
     "metadata": {
      "needs_background": "light"
     },
     "output_type": "display_data"
    }
   ],
   "source": [
    "plt.figure(figsize=(10,6))\n",
    "df['survived'] = df.survived.astype('int')\n",
    "sns.barplot(x='sex',y='survived',data=df)\n",
    "plt.ylabel(\"% Survived\")\n",
    "plt.title('Survival Rate by Sex')\n",
    "plt.show()"
   ]
  },
  {
   "attachments": {},
   "cell_type": "markdown",
   "id": "3785faa5",
   "metadata": {},
   "source": [
    "### Survival rate by class"
   ]
  },
  {
   "cell_type": "code",
   "execution_count": 136,
   "id": "6a6ec366",
   "metadata": {},
   "outputs": [
    {
     "data": {
      "image/png": "[encoded data removed]",
      "text/plain": [
       "<Figure size 720x432 with 1 Axes>"
      ]
     },
     "metadata": {
      "needs_background": "light"
     },
     "output_type": "display_data"
    }
   ],
   "source": [
    "plt.figure(figsize=(10,6))\n",
    "sns.barplot(x=\"pclass\", y=\"survived\", data=df)\n",
    "plt.ylabel(\"Survival Rate\")\n",
    "plt.title(\"Survival rate based on Class\")\n",
    "plt.show()"
   ]
  },
  {
   "attachments": {},
   "cell_type": "markdown",
   "id": "bb2ead09",
   "metadata": {},
   "source": [
    "### The below plots visualize survival rate with both sex and class considered"
   ]
  },
  {
   "cell_type": "code",
   "execution_count": 137,
   "id": "53306874",
   "metadata": {},
   "outputs": [
    {
     "data": {
      "image/png": "[encoded data removed]",
      "text/plain": [
       "<Figure size 720x432 with 1 Axes>"
      ]
     },
     "metadata": {
      "needs_background": "light"
     },
     "output_type": "display_data"
    }
   ],
   "source": [
    "plt.figure(figsize=(10,6))\n",
    "sns.barplot(x=\"pclass\", y=\"survived\", hue=\"sex\", data=df)\n",
    "plt.ylabel(\"Survival Rate\")\n",
    "plt.title(\"Survival Based on Class and Gender\")\n",
    "plt.show()"
   ]
  },
  {
   "attachments": {},
   "cell_type": "markdown",
   "id": "372962bf",
   "metadata": {},
   "source": [
    "### Class not a huge indicator of survival rate for males "
   ]
  },
  {
   "cell_type": "code",
   "execution_count": 138,
   "id": "44c5826a",
   "metadata": {},
   "outputs": [
    {
     "data": {
      "image/png": "[encoded data removed]",
      "text/plain": [
       "<Figure size 720x432 with 1 Axes>"
      ]
     },
     "metadata": {
      "needs_background": "light"
     },
     "output_type": "display_data"
    }
   ],
   "source": [
    "plt.figure(figsize=(10,6))\n",
    "sns.barplot(x=\"sex\", y=\"survived\", hue=\"pclass\", data=df)\n",
    "plt.ylabel(\"Survival Rate\")\n",
    "plt.title(\"Survival Rates Based on Gender and Class\")\n",
    "plt.show()"
   ]
  },
  {
   "attachments": {},
   "cell_type": "markdown",
   "id": "b6109bf6",
   "metadata": {},
   "source": [
    "### Survival rate based on the port the person embarked from"
   ]
  },
  {
   "cell_type": "code",
   "execution_count": 139,
   "id": "ba85e884",
   "metadata": {},
   "outputs": [
    {
     "data": {
      "image/png": "[encoded data removed]",
      "text/plain": [
       "<Figure size 720x432 with 1 Axes>"
      ]
     },
     "metadata": {
      "needs_background": "light"
     },
     "output_type": "display_data"
    }
   ],
   "source": [
    "plt.figure(figsize=(10,6))\n",
    "sns.barplot(x='embarked', y='survived', data=df)\n",
    "plt.title('Percent survivers by port of embarkation')\n",
    "plt.xlabel(\"Port Embarked From\")\n",
    "plt.show()"
   ]
  },
  {
   "attachments": {},
   "cell_type": "markdown",
   "id": "327e83c2",
   "metadata": {},
   "source": [
    "### Now we will add a new feature 'traveled_alone' by making use of the existing - features sibsP and parch - to determine whether a person had family with them"
   ]
  },
  {
   "cell_type": "code",
   "execution_count": 140,
   "id": "47d73b7e",
   "metadata": {},
   "outputs": [],
   "source": [
    "df['family_aboard'] = df['sibsp'] + df['parch']\n",
    "df.loc[df['family_aboard'] == 0, 'alone'] = 1\n",
    "df.loc[df['family_aboard'] > 0, 'alone'] = 0"
   ]
  },
  {
   "cell_type": "code",
   "execution_count": 141,
   "id": "534b18d2",
   "metadata": {},
   "outputs": [],
   "source": [
    "df.drop(['family_aboard', 'sibsp', 'parch','name'], axis=1, inplace=True)"
   ]
  },
  {
   "cell_type": "code",
   "execution_count": 142,
   "id": "7285e62f",
   "metadata": {},
   "outputs": [
    {
     "data": {
      "text/html": [
       "<div>\n",
       "<style scoped>\n",
       "    .dataframe tbody tr th:only-of-type {\n",
       "        vertical-align: middle;\n",
       "    }\n",
       "\n",
       "    .dataframe tbody tr th {\n",
       "        vertical-align: top;\n",
       "    }\n",
       "\n",
       "    .dataframe thead th {\n",
       "        text-align: right;\n",
       "    }\n",
       "</style>\n",
       "<table border=\"1\" class=\"dataframe\">\n",
       "  <thead>\n",
       "    <tr style=\"text-align: right;\">\n",
       "      <th></th>\n",
       "      <th>pclass</th>\n",
       "      <th>sex</th>\n",
       "      <th>age</th>\n",
       "      <th>fare</th>\n",
       "      <th>embarked</th>\n",
       "      <th>survived</th>\n",
       "      <th>alone</th>\n",
       "    </tr>\n",
       "  </thead>\n",
       "  <tbody>\n",
       "    <tr>\n",
       "      <th>0</th>\n",
       "      <td>1.0</td>\n",
       "      <td>female</td>\n",
       "      <td>29.0000</td>\n",
       "      <td>211.3375</td>\n",
       "      <td>S</td>\n",
       "      <td>1</td>\n",
       "      <td>1.0</td>\n",
       "    </tr>\n",
       "    <tr>\n",
       "      <th>1</th>\n",
       "      <td>1.0</td>\n",
       "      <td>male</td>\n",
       "      <td>0.9167</td>\n",
       "      <td>151.5500</td>\n",
       "      <td>S</td>\n",
       "      <td>1</td>\n",
       "      <td>0.0</td>\n",
       "    </tr>\n",
       "    <tr>\n",
       "      <th>2</th>\n",
       "      <td>1.0</td>\n",
       "      <td>female</td>\n",
       "      <td>2.0000</td>\n",
       "      <td>151.5500</td>\n",
       "      <td>S</td>\n",
       "      <td>0</td>\n",
       "      <td>0.0</td>\n",
       "    </tr>\n",
       "    <tr>\n",
       "      <th>3</th>\n",
       "      <td>1.0</td>\n",
       "      <td>male</td>\n",
       "      <td>30.0000</td>\n",
       "      <td>151.5500</td>\n",
       "      <td>S</td>\n",
       "      <td>0</td>\n",
       "      <td>0.0</td>\n",
       "    </tr>\n",
       "    <tr>\n",
       "      <th>4</th>\n",
       "      <td>1.0</td>\n",
       "      <td>female</td>\n",
       "      <td>25.0000</td>\n",
       "      <td>151.5500</td>\n",
       "      <td>S</td>\n",
       "      <td>0</td>\n",
       "      <td>0.0</td>\n",
       "    </tr>\n",
       "  </tbody>\n",
       "</table>\n",
       "</div>"
      ],
      "text/plain": [
       "   pclass     sex      age      fare embarked  survived  alone\n",
       "0     1.0  female  29.0000  211.3375        S         1    1.0\n",
       "1     1.0    male   0.9167  151.5500        S         1    0.0\n",
       "2     1.0  female   2.0000  151.5500        S         0    0.0\n",
       "3     1.0    male  30.0000  151.5500        S         0    0.0\n",
       "4     1.0  female  25.0000  151.5500        S         0    0.0"
      ]
     },
     "execution_count": 142,
     "metadata": {},
     "output_type": "execute_result"
    }
   ],
   "source": [
    "df.head()"
   ]
  },
  {
   "attachments": {},
   "cell_type": "markdown",
   "id": "2c2ce62a",
   "metadata": {},
   "source": [
    "### Scaling numerical features so that there isn't such a large gap between variables"
   ]
  },
  {
   "cell_type": "code",
   "execution_count": 143,
   "id": "630aca24",
   "metadata": {},
   "outputs": [
    {
     "data": {
      "text/html": [
       "<div>\n",
       "<style scoped>\n",
       "    .dataframe tbody tr th:only-of-type {\n",
       "        vertical-align: middle;\n",
       "    }\n",
       "\n",
       "    .dataframe tbody tr th {\n",
       "        vertical-align: top;\n",
       "    }\n",
       "\n",
       "    .dataframe thead th {\n",
       "        text-align: right;\n",
       "    }\n",
       "</style>\n",
       "<table border=\"1\" class=\"dataframe\">\n",
       "  <thead>\n",
       "    <tr style=\"text-align: right;\">\n",
       "      <th></th>\n",
       "      <th>pclass</th>\n",
       "      <th>sex</th>\n",
       "      <th>age</th>\n",
       "      <th>fare</th>\n",
       "      <th>embarked</th>\n",
       "      <th>survived</th>\n",
       "      <th>alone</th>\n",
       "    </tr>\n",
       "  </thead>\n",
       "  <tbody>\n",
       "    <tr>\n",
       "      <th>0</th>\n",
       "      <td>1.0</td>\n",
       "      <td>female</td>\n",
       "      <td>-0.039005</td>\n",
       "      <td>3.442584</td>\n",
       "      <td>S</td>\n",
       "      <td>1</td>\n",
       "      <td>1.0</td>\n",
       "    </tr>\n",
       "    <tr>\n",
       "      <th>1</th>\n",
       "      <td>1.0</td>\n",
       "      <td>male</td>\n",
       "      <td>-2.215952</td>\n",
       "      <td>2.286639</td>\n",
       "      <td>S</td>\n",
       "      <td>1</td>\n",
       "      <td>0.0</td>\n",
       "    </tr>\n",
       "    <tr>\n",
       "      <th>2</th>\n",
       "      <td>1.0</td>\n",
       "      <td>female</td>\n",
       "      <td>-2.131977</td>\n",
       "      <td>2.286639</td>\n",
       "      <td>S</td>\n",
       "      <td>0</td>\n",
       "      <td>0.0</td>\n",
       "    </tr>\n",
       "    <tr>\n",
       "      <th>3</th>\n",
       "      <td>1.0</td>\n",
       "      <td>male</td>\n",
       "      <td>0.038512</td>\n",
       "      <td>2.286639</td>\n",
       "      <td>S</td>\n",
       "      <td>0</td>\n",
       "      <td>0.0</td>\n",
       "    </tr>\n",
       "    <tr>\n",
       "      <th>4</th>\n",
       "      <td>1.0</td>\n",
       "      <td>female</td>\n",
       "      <td>-0.349075</td>\n",
       "      <td>2.286639</td>\n",
       "      <td>S</td>\n",
       "      <td>0</td>\n",
       "      <td>0.0</td>\n",
       "    </tr>\n",
       "  </tbody>\n",
       "</table>\n",
       "</div>"
      ],
      "text/plain": [
       "   pclass     sex       age      fare embarked  survived  alone\n",
       "0     1.0  female -0.039005  3.442584        S         1    1.0\n",
       "1     1.0    male -2.215952  2.286639        S         1    0.0\n",
       "2     1.0  female -2.131977  2.286639        S         0    0.0\n",
       "3     1.0    male  0.038512  2.286639        S         0    0.0\n",
       "4     1.0  female -0.349075  2.286639        S         0    0.0"
      ]
     },
     "execution_count": 143,
     "metadata": {},
     "output_type": "execute_result"
    }
   ],
   "source": [
    "scaler = StandardScaler()\n",
    "ages = np.array(df[\"age\"]).reshape(-1, 1)\n",
    "fares = np.array(df[\"fare\"]).reshape(-1, 1)\n",
    "df[\"age\"] = scaler.fit_transform(ages)\n",
    "df[\"fare\"] = scaler.fit_transform(fares)\n",
    "df.head()"
   ]
  },
  {
   "attachments": {},
   "cell_type": "markdown",
   "id": "7f77d148",
   "metadata": {},
   "source": [
    "### Encoding remaining categorical features to numerical before model testing"
   ]
  },
  {
   "cell_type": "code",
   "execution_count": 144,
   "id": "6876a063",
   "metadata": {},
   "outputs": [
    {
     "data": {
      "text/html": [
       "<div>\n",
       "<style scoped>\n",
       "    .dataframe tbody tr th:only-of-type {\n",
       "        vertical-align: middle;\n",
       "    }\n",
       "\n",
       "    .dataframe tbody tr th {\n",
       "        vertical-align: top;\n",
       "    }\n",
       "\n",
       "    .dataframe thead th {\n",
       "        text-align: right;\n",
       "    }\n",
       "</style>\n",
       "<table border=\"1\" class=\"dataframe\">\n",
       "  <thead>\n",
       "    <tr style=\"text-align: right;\">\n",
       "      <th></th>\n",
       "      <th>pclass</th>\n",
       "      <th>sex</th>\n",
       "      <th>age</th>\n",
       "      <th>fare</th>\n",
       "      <th>embarked</th>\n",
       "      <th>survived</th>\n",
       "      <th>alone</th>\n",
       "    </tr>\n",
       "  </thead>\n",
       "  <tbody>\n",
       "    <tr>\n",
       "      <th>0</th>\n",
       "      <td>1.0</td>\n",
       "      <td>0</td>\n",
       "      <td>-0.039005</td>\n",
       "      <td>3.442584</td>\n",
       "      <td>2</td>\n",
       "      <td>1</td>\n",
       "      <td>1.0</td>\n",
       "    </tr>\n",
       "    <tr>\n",
       "      <th>1</th>\n",
       "      <td>1.0</td>\n",
       "      <td>1</td>\n",
       "      <td>-2.215952</td>\n",
       "      <td>2.286639</td>\n",
       "      <td>2</td>\n",
       "      <td>1</td>\n",
       "      <td>0.0</td>\n",
       "    </tr>\n",
       "    <tr>\n",
       "      <th>2</th>\n",
       "      <td>1.0</td>\n",
       "      <td>0</td>\n",
       "      <td>-2.131977</td>\n",
       "      <td>2.286639</td>\n",
       "      <td>2</td>\n",
       "      <td>0</td>\n",
       "      <td>0.0</td>\n",
       "    </tr>\n",
       "    <tr>\n",
       "      <th>3</th>\n",
       "      <td>1.0</td>\n",
       "      <td>1</td>\n",
       "      <td>0.038512</td>\n",
       "      <td>2.286639</td>\n",
       "      <td>2</td>\n",
       "      <td>0</td>\n",
       "      <td>0.0</td>\n",
       "    </tr>\n",
       "    <tr>\n",
       "      <th>4</th>\n",
       "      <td>1.0</td>\n",
       "      <td>0</td>\n",
       "      <td>-0.349075</td>\n",
       "      <td>2.286639</td>\n",
       "      <td>2</td>\n",
       "      <td>0</td>\n",
       "      <td>0.0</td>\n",
       "    </tr>\n",
       "  </tbody>\n",
       "</table>\n",
       "</div>"
      ],
      "text/plain": [
       "   pclass  sex       age      fare  embarked  survived  alone\n",
       "0     1.0    0 -0.039005  3.442584         2         1    1.0\n",
       "1     1.0    1 -2.215952  2.286639         2         1    0.0\n",
       "2     1.0    0 -2.131977  2.286639         2         0    0.0\n",
       "3     1.0    1  0.038512  2.286639         2         0    0.0\n",
       "4     1.0    0 -0.349075  2.286639         2         0    0.0"
      ]
     },
     "execution_count": 144,
     "metadata": {},
     "output_type": "execute_result"
    }
   ],
   "source": [
    "le_sex = LabelEncoder()\n",
    "le_sex.fit(df[\"sex\"])\n",
    "\n",
    "encoded_sex = le_sex.transform(df[\"sex\"])\n",
    "df[\"sex\"] = encoded_sex\n",
    "le_embarked = LabelEncoder()\n",
    "le_embarked.fit(df[\"embarked\"])\n",
    "\n",
    "encoded_embarked = le_embarked.transform(df[\"embarked\"])\n",
    "df[\"embarked\"] = encoded_embarked\n",
    "df.head()"
   ]
  },
  {
   "attachments": {},
   "cell_type": "markdown",
   "id": "39b9dad6",
   "metadata": {},
   "source": [
    "# Now for model testing\n",
    "## All model results and accuracy on test set will be displayed at bottom of the notebook\n",
    "- Final results will be displayed as a table/dataframe at the bottom of the notebook, followed by concluding thoughts\n",
    "- I will first run the DecisionTreeClassifier with default params to get a baseline, then I will test 5 models and perform hyperparamter tuning to find the best"
   ]
  },
  {
   "cell_type": "code",
   "execution_count": 145,
   "id": "060438e6",
   "metadata": {},
   "outputs": [],
   "source": [
    "X = df.drop('survived', axis=1)\n",
    "y = df['survived']"
   ]
  },
  {
   "cell_type": "code",
   "execution_count": 146,
   "id": "c0c76ec8",
   "metadata": {},
   "outputs": [],
   "source": [
    "RAND_STATE = 32\n",
    "X_train, X_test, y_train, y_test = train_test_split(X, y, test_size=0.3, random_state=RAND_STATE)"
   ]
  },
  {
   "attachments": {},
   "cell_type": "markdown",
   "id": "07bb9e9a",
   "metadata": {},
   "source": [
    "## Depending on the model/classifier, we can easily identify feature importance.\n",
    "- This can't be done for certain classifiers like KNN and SVM (non-linear kernels)"
   ]
  },
  {
   "cell_type": "code",
   "execution_count": 147,
   "id": "6b2c5ab6",
   "metadata": {},
   "outputs": [
    {
     "data": {
      "image/png": "[encoded data removed]",
      "text/plain": [
       "<Figure size 432x432 with 1 Axes>"
      ]
     },
     "metadata": {
      "needs_background": "light"
     },
     "output_type": "display_data"
    }
   ],
   "source": [
    "dt_clf = DecisionTreeClassifier(random_state=RAND_STATE)\n",
    " \n",
    "dt_clf.fit(X_train, y_train)\n",
    "plt.figure(figsize=[6,6])\n",
    "plot_feature_importances(dt_clf, X_train)"
   ]
  },
  {
   "cell_type": "code",
   "execution_count": 148,
   "id": "dbc01fac",
   "metadata": {},
   "outputs": [
    {
     "name": "stdout",
     "output_type": "stream",
     "text": [
      "Model Accuracy on Test Set: 0.7735368956743003\n",
      "\n",
      "\n",
      "Classification Report:\n",
      "              precision    recall  f1-score   support\n",
      "\n",
      "           0       0.78      0.84      0.81       226\n",
      "           1       0.76      0.68      0.72       167\n",
      "\n",
      "    accuracy                           0.77       393\n",
      "   macro avg       0.77      0.76      0.76       393\n",
      "weighted avg       0.77      0.77      0.77       393\n",
      "\n"
     ]
    },
    {
     "data": {
      "image/png": "[encoded data removed]",
      "text/plain": [
       "<Figure size 432x288 with 2 Axes>"
      ]
     },
     "metadata": {
      "needs_background": "light"
     },
     "output_type": "display_data"
    }
   ],
   "source": [
    "y_pred_dt = dt_clf.predict(X_test)\n",
    "print(f'Model Accuracy on Test Set: {dt_clf.score(X_test, y_test)}')\n",
    "print('\\n')\n",
    "print(\"Classification Report:\")\n",
    "print(classification_report(y_test, y_pred_dt))\n",
    "ConfusionMatrixDisplay.from_estimator(dt_clf, X_test, y_test)\n",
    "plt.show()"
   ]
  },
  {
   "attachments": {},
   "cell_type": "markdown",
   "id": "d094e2af",
   "metadata": {},
   "source": [
    "## Parameter tuning via gridsearch\n",
    "- Models to be further tested: \n",
    "- 1. LogisticRegression\n",
    "- 2. SVM\n",
    "- 3. RandomForestClassifer\n",
    "- 4. KNN\n",
    "- 5. DecisionTreeClassifier"
   ]
  },
  {
   "cell_type": "code",
   "execution_count": 149,
   "id": "69cc3ba0",
   "metadata": {},
   "outputs": [],
   "source": [
    "crossvalscores = { \n",
    "    'LogisticRegression': {\n",
    "        'cv_score': '', \n",
    "        'params': '',\n",
    "        'test_set_score':''\n",
    "            }, \n",
    "         'KNeighborsClassifier': {\n",
    "              'cv_score': '', \n",
    "            'params': '',\n",
    "             'test_set_score':''\n",
    "                 },\n",
    "                'SVC': {\n",
    "                  'cv_score': '', \n",
    "                   'params': '',\n",
    "                    'test_set_score':''\n",
    "                 },\n",
    "                'RandomForestClassifier': {\n",
    "                  'cv_score': '', \n",
    "                   'params': '',\n",
    "                    'test_set_score':''\n",
    "                 },\n",
    "    'DecisionTreeClassifier': {\n",
    "                  'cv_score': '', \n",
    "                   'params': '',\n",
    "                    'test_set_score':''\n",
    "                 }\n",
    "             }"
   ]
  },
  {
   "attachments": {},
   "cell_type": "markdown",
   "id": "1b2ac80e",
   "metadata": {},
   "source": [
    "### 1:  LogisticRegression"
   ]
  },
  {
   "cell_type": "code",
   "execution_count": 150,
   "id": "43cdb625",
   "metadata": {},
   "outputs": [
    {
     "name": "stdout",
     "output_type": "stream",
     "text": [
      "Best Score 5 fold CV: 0.7783796626277025\n",
      "\n",
      "\n",
      "Classification Report on test set:\n",
      "              precision    recall  f1-score   support\n",
      "\n",
      "           0       0.79      0.83      0.81       226\n",
      "           1       0.76      0.71      0.73       167\n",
      "\n",
      "    accuracy                           0.78       393\n",
      "   macro avg       0.77      0.77      0.77       393\n",
      "weighted avg       0.78      0.78      0.78       393\n",
      "\n"
     ]
    },
    {
     "data": {
      "image/png": "[encoded data removed]",
      "text/plain": [
       "<Figure size 432x288 with 2 Axes>"
      ]
     },
     "metadata": {
      "needs_background": "light"
     },
     "output_type": "display_data"
    }
   ],
   "source": [
    "params = { 'C': [0.001, 0.01, 0.1, 1, 10], 'penalty': ['l1', 'l2']}\n",
    " \n",
    "lr_clf = LogisticRegression(class_weight='balanced', solver='liblinear',random_state=RAND_STATE)\n",
    " \n",
    "lreg_cv = GridSearchCV(lr_clf, param_grid=params, cv=5,scoring='accuracy')\n",
    " \n",
    "lreg_cv.fit(X_train, y_train)\n",
    "\n",
    "crossvalscores['LogisticRegression']['cv_score'] = lreg_cv.best_score_\n",
    "crossvalscores['LogisticRegression']['params'] = lreg_cv.best_params_\n",
    "crossvalscores['LogisticRegression']['test_set_score'] = lreg_cv.score(X_test, y_test)\n",
    "y_pred_logr = lreg_cv.predict(X_test)\n",
    "print(\"Best Score 5 fold CV:\",crossvalscores['LogisticRegression']['cv_score'])\n",
    "print(\"\\n\")\n",
    "print(\"Classification Report on test set:\")\n",
    "print(classification_report(y_test, y_pred_logr))\n",
    "ConfusionMatrixDisplay.from_estimator(lreg_cv, X_test, y_test)\n",
    "plt.show()"
   ]
  },
  {
   "cell_type": "code",
   "execution_count": 151,
   "id": "d5e7ed3e",
   "metadata": {},
   "outputs": [
    {
     "data": {
      "image/png": "[encoded data removed]",
      "text/plain": [
       "<Figure size 720x432 with 1 Axes>"
      ]
     },
     "metadata": {
      "needs_background": "light"
     },
     "output_type": "display_data"
    }
   ],
   "source": [
    "coefficients = lreg_cv.best_estimator_.coef_\n",
    "\n",
    "avg_importance = np.mean(np.abs(coefficients), axis=0)\n",
    "feature_importance = pd.DataFrame({'Feature': X.columns, 'Importance': avg_importance})\n",
    "feature_importance = feature_importance.sort_values('Importance', ascending=True)\n",
    "feature_importance.plot(x='Feature', y='Importance', kind='barh', title='LogisticRegression Feature Importance', figsize=(10, 6))\n",
    "plt.show()"
   ]
  },
  {
   "attachments": {},
   "cell_type": "markdown",
   "id": "00877658",
   "metadata": {},
   "source": [
    "#### Clearly sex (male or female) is the most indicative feature of surviving or not for this specific Logistic classifier.\n",
    "-- Hyperparameters shown at the bottom of notebook in a table after running each model"
   ]
  },
  {
   "attachments": {},
   "cell_type": "markdown",
   "id": "570ef8b1",
   "metadata": {},
   "source": [
    "### 2:  SVM"
   ]
  },
  {
   "cell_type": "code",
   "execution_count": 152,
   "id": "56450182",
   "metadata": {},
   "outputs": [
    {
     "name": "stdout",
     "output_type": "stream",
     "text": [
      "Best Score 5 fold CV: 0.791488477072939\n",
      "\n",
      "\n",
      "Classification Report on test set:\n",
      "              precision    recall  f1-score   support\n",
      "\n",
      "           0       0.83      0.84      0.84       226\n",
      "           1       0.78      0.77      0.77       167\n",
      "\n",
      "    accuracy                           0.81       393\n",
      "   macro avg       0.81      0.80      0.80       393\n",
      "weighted avg       0.81      0.81      0.81       393\n",
      "\n"
     ]
    },
    {
     "data": {
      "image/png": "[encoded data removed]",
      "text/plain": [
       "<Figure size 432x288 with 2 Axes>"
      ]
     },
     "metadata": {
      "needs_background": "light"
     },
     "output_type": "display_data"
    }
   ],
   "source": [
    "params = {'C': [0.01, 0.1, 1, 10, 15],'kernel': ['linear', 'poly', 'rbf', 'sigmoid'],'gamma': ['scale', 'auto']}\n",
    " \n",
    "svc = SVC(class_weight='balanced',probability=True,random_state=RAND_STATE)\n",
    " \n",
    "svc_cv = GridSearchCV(svc, param_grid=params, cv=5, scoring='accuracy', n_jobs=-1)\n",
    " \n",
    "svc_cv.fit(X_train, y_train)\n",
    " \n",
    "crossvalscores['SVC']['cv_score'] = svc_cv.best_score_\n",
    "crossvalscores['SVC']['params'] = svc_cv.best_params_\n",
    "crossvalscores['SVC']['test_set_score'] = svc_cv.score(X_test, y_test)\n",
    "y_pred_svc = svc_cv.predict(X_test)\n",
    "print(\"Best Score 5 fold CV:\",crossvalscores['SVC']['cv_score'])\n",
    "print(\"\\n\")\n",
    "print(\"Classification Report on test set:\")\n",
    "print(classification_report(y_test, y_pred_svc))\n",
    "ConfusionMatrixDisplay.from_estimator(svc_cv, X_test, y_test)\n",
    "\n",
    "plt.show()"
   ]
  },
  {
   "attachments": {},
   "cell_type": "markdown",
   "id": "a09ad89b",
   "metadata": {},
   "source": [
    "### 3: RandomForestClassifier"
   ]
  },
  {
   "cell_type": "code",
   "execution_count": 153,
   "id": "6f6348bf",
   "metadata": {},
   "outputs": [
    {
     "name": "stdout",
     "output_type": "stream",
     "text": [
      "Best Score 5 fold CV: 0.7958660014255168\n",
      "\n",
      "\n",
      "Classification Report on test set:\n",
      "              precision    recall  f1-score   support\n",
      "\n",
      "           0       0.78      0.89      0.83       226\n",
      "           1       0.81      0.65      0.72       167\n",
      "\n",
      "    accuracy                           0.79       393\n",
      "   macro avg       0.79      0.77      0.78       393\n",
      "weighted avg       0.79      0.79      0.78       393\n",
      "\n"
     ]
    },
    {
     "data": {
      "image/png": "[encoded data removed]",
      "text/plain": [
       "<Figure size 432x288 with 2 Axes>"
      ]
     },
     "metadata": {
      "needs_background": "light"
     },
     "output_type": "display_data"
    }
   ],
   "source": [
    "params = {'n_estimators': [5, 10, 15, 20, 25], 'max_depth': [3, 5, 7, 9, 11, 13]}\n",
    "rf_clf = RandomForestClassifier(class_weight='balanced',random_state=RAND_STATE)\n",
    " \n",
    "rf_cv = GridSearchCV(rf_clf, param_grid=params, cv=5,scoring='accuracy')\n",
    " \n",
    "rf_cv.fit(X_train, y_train)\n",
    " \n",
    "crossvalscores['RandomForestClassifier']['cv_score'] = rf_cv.best_score_\n",
    "crossvalscores['RandomForestClassifier']['params'] = rf_cv.best_params_\n",
    "crossvalscores['RandomForestClassifier']['test_set_score'] = rf_cv.score(X_test, y_test)\n",
    "y_pred_rfc = rf_cv.predict(X_test)\n",
    "print(\"Best Score 5 fold CV:\", crossvalscores['RandomForestClassifier']['cv_score']) \n",
    "print(\"\\n\")\n",
    "print(\"Classification Report on test set:\")\n",
    "print(classification_report(y_test, y_pred_rfc))\n",
    "ConfusionMatrixDisplay.from_estimator(rf_cv, X_test, y_test)\n",
    "plt.show()"
   ]
  },
  {
   "cell_type": "code",
   "execution_count": 154,
   "id": "ad1c53b1",
   "metadata": {},
   "outputs": [
    {
     "data": {
      "image/png": "[encoded data removed]",
      "text/plain": [
       "<Figure size 720x432 with 1 Axes>"
      ]
     },
     "metadata": {
      "needs_background": "light"
     },
     "output_type": "display_data"
    }
   ],
   "source": [
    "plt.figure(figsize=[10,6])\n",
    "plt.title(\"RandomForestClassifier Features Ranked\")\n",
    "plot_feature_importances(rf_cv.best_estimator_, X_train)"
   ]
  },
  {
   "attachments": {},
   "cell_type": "markdown",
   "id": "25d3945e",
   "metadata": {},
   "source": [
    "### 4: KNN"
   ]
  },
  {
   "cell_type": "code",
   "execution_count": 155,
   "id": "6b3d7fec",
   "metadata": {},
   "outputs": [
    {
     "name": "stdout",
     "output_type": "stream",
     "text": [
      "Best Score 5 fold CV: 0.8013186029935853\n",
      "\n",
      "\n",
      "Classification Report on test set:\n",
      "              precision    recall  f1-score   support\n",
      "\n",
      "           0       0.74      0.92      0.82       226\n",
      "           1       0.83      0.57      0.68       167\n",
      "\n",
      "    accuracy                           0.77       393\n",
      "   macro avg       0.79      0.74      0.75       393\n",
      "weighted avg       0.78      0.77      0.76       393\n",
      "\n"
     ]
    },
    {
     "data": {
      "image/png": "[encoded data removed]",
      "text/plain": [
       "<Figure size 432x288 with 2 Axes>"
      ]
     },
     "metadata": {
      "needs_background": "light"
     },
     "output_type": "display_data"
    }
   ],
   "source": [
    "params = {'n_neighbors': np.arange(1, 40)}\n",
    " \n",
    "knn_clf = KNeighborsClassifier()\n",
    " \n",
    "knn_cv = GridSearchCV(knn_clf, param_grid=params, cv=5, scoring='accuracy')\n",
    " \n",
    "knn_cv.fit(X_train, y_train)\n",
    " \n",
    "crossvalscores['KNeighborsClassifier']['cv_score'] = knn_cv.best_score_\n",
    "crossvalscores['KNeighborsClassifier']['params'] = knn_cv.best_params_\n",
    "crossvalscores['KNeighborsClassifier']['test_set_score'] = knn_cv.score(X_test, y_test)\n",
    "y_pred_knn = knn_cv.predict(X_test)\n",
    "print(\"Best Score 5 fold CV:\", crossvalscores['KNeighborsClassifier']['cv_score'])\n",
    "print(\"\\n\")\n",
    "print(\"Classification Report on test set:\")\n",
    "print(classification_report(y_test, y_pred_knn))\n",
    "ConfusionMatrixDisplay.from_estimator(knn_cv, X_test, y_test)\n",
    "plt.show()"
   ]
  },
  {
   "attachments": {},
   "cell_type": "markdown",
   "id": "43a82e1b",
   "metadata": {},
   "source": [
    "### 5: DecisionTreeClassifier"
   ]
  },
  {
   "cell_type": "code",
   "execution_count": 156,
   "id": "f5127e6e",
   "metadata": {},
   "outputs": [
    {
     "name": "stdout",
     "output_type": "stream",
     "text": [
      "Best Score 5 fold CV: 0.7980458541221193\n",
      "\n",
      "\n",
      "Classification Report on test set:\n",
      "              precision    recall  f1-score   support\n",
      "\n",
      "           0       0.82      0.78      0.80       226\n",
      "           1       0.72      0.77      0.75       167\n",
      "\n",
      "    accuracy                           0.78       393\n",
      "   macro avg       0.77      0.78      0.78       393\n",
      "weighted avg       0.78      0.78      0.78       393\n",
      "\n"
     ]
    },
    {
     "data": {
      "image/png": "[encoded data removed]",
      "text/plain": [
       "<Figure size 432x288 with 2 Axes>"
      ]
     },
     "metadata": {
      "needs_background": "light"
     },
     "output_type": "display_data"
    }
   ],
   "source": [
    "params = {'max_depth': [2, 3, 5, 7, 9, 11]}\n",
    " \n",
    "dtclf = DecisionTreeClassifier(class_weight='balanced',random_state=RAND_STATE)\n",
    " \n",
    "dt_cv = GridSearchCV(dtclf, param_grid=params, cv=5,scoring='accuracy')\n",
    " \n",
    "dt_cv.fit(X_train, y_train)\n",
    " \n",
    "crossvalscores['DecisionTreeClassifier']['cv_score'] = dt_cv.best_score_\n",
    "crossvalscores['DecisionTreeClassifier']['params'] = dt_cv.best_params_\n",
    "crossvalscores['DecisionTreeClassifier']['test_set_score'] = dt_cv.score(X_test, y_test)\n",
    "y_pred_dtc = dt_cv.predict(X_test)\n",
    "print(\"Best Score 5 fold CV:\",crossvalscores['DecisionTreeClassifier']['cv_score'])\n",
    "print(\"\\n\")\n",
    "print(\"Classification Report on test set:\")\n",
    "print(classification_report(y_test, y_pred_dtc))\n",
    "ConfusionMatrixDisplay.from_estimator(dt_cv, X_test, y_test)\n",
    "plt.show()"
   ]
  },
  {
   "cell_type": "code",
   "execution_count": 157,
   "id": "8ab229c9",
   "metadata": {},
   "outputs": [
    {
     "data": {
      "image/png": "[encoded data removed]",
      "text/plain": [
       "<Figure size 720x432 with 1 Axes>"
      ]
     },
     "metadata": {
      "needs_background": "light"
     },
     "output_type": "display_data"
    }
   ],
   "source": [
    "plt.figure(figsize=[10,6])\n",
    "plt.title(\"DecisionTreeClassifier Features ranked\")\n",
    "plot_feature_importances(dt_cv.best_estimator_, X_train)"
   ]
  },
  {
   "attachments": {},
   "cell_type": "markdown",
   "id": "ac954669",
   "metadata": {},
   "source": [
    "### Dictionary of all of the classifiers and their best/most-accurate estimators as a result of gridsearch with 5f-cv"
   ]
  },
  {
   "cell_type": "code",
   "execution_count": 158,
   "id": "25c6f3e0",
   "metadata": {},
   "outputs": [
    {
     "data": {
      "text/plain": [
       "{'LogisticRegression': {'cv_score': 0.7783796626277025,\n",
       "  'params': {'C': 0.1, 'penalty': 'l1'},\n",
       "  'test_set_score': 0.7786259541984732},\n",
       " 'KNeighborsClassifier': {'cv_score': 0.8013186029935853,\n",
       "  'params': {'n_neighbors': 16},\n",
       "  'test_set_score': 0.7684478371501272},\n",
       " 'SVC': {'cv_score': 0.791488477072939,\n",
       "  'params': {'C': 10, 'gamma': 'scale', 'kernel': 'poly'},\n",
       "  'test_set_score': 0.8091603053435115},\n",
       " 'RandomForestClassifier': {'cv_score': 0.7958660014255168,\n",
       "  'params': {'max_depth': 11, 'n_estimators': 20},\n",
       "  'test_set_score': 0.7888040712468194},\n",
       " 'DecisionTreeClassifier': {'cv_score': 0.7980458541221193,\n",
       "  'params': {'max_depth': 3},\n",
       "  'test_set_score': 0.7786259541984732}}"
      ]
     },
     "execution_count": 158,
     "metadata": {},
     "output_type": "execute_result"
    }
   ],
   "source": [
    "crossvalscores"
   ]
  },
  {
   "attachments": {},
   "cell_type": "markdown",
   "id": "b568b735",
   "metadata": {},
   "source": [
    "###  Table of accuracy scores and corresponding parameters from each of the above estimators:"
   ]
  },
  {
   "cell_type": "code",
   "execution_count": 159,
   "id": "14fbd93a",
   "metadata": {},
   "outputs": [
    {
     "data": {
      "text/html": [
       "<div>\n",
       "<style scoped>\n",
       "    .dataframe tbody tr th:only-of-type {\n",
       "        vertical-align: middle;\n",
       "    }\n",
       "\n",
       "    .dataframe tbody tr th {\n",
       "        vertical-align: top;\n",
       "    }\n",
       "\n",
       "    .dataframe thead th {\n",
       "        text-align: right;\n",
       "    }\n",
       "</style>\n",
       "<table border=\"1\" class=\"dataframe\">\n",
       "  <thead>\n",
       "    <tr style=\"text-align: right;\">\n",
       "      <th></th>\n",
       "      <th>cv_score</th>\n",
       "      <th>params</th>\n",
       "      <th>test_set_score</th>\n",
       "    </tr>\n",
       "  </thead>\n",
       "  <tbody>\n",
       "    <tr>\n",
       "      <th>SVC</th>\n",
       "      <td>0.791488</td>\n",
       "      <td>{'C': 10, 'gamma': 'scale', 'kernel': 'poly'}</td>\n",
       "      <td>0.80916</td>\n",
       "    </tr>\n",
       "    <tr>\n",
       "      <th>RandomForestClassifier</th>\n",
       "      <td>0.795866</td>\n",
       "      <td>{'max_depth': 11, 'n_estimators': 20}</td>\n",
       "      <td>0.788804</td>\n",
       "    </tr>\n",
       "    <tr>\n",
       "      <th>LogisticRegression</th>\n",
       "      <td>0.77838</td>\n",
       "      <td>{'C': 0.1, 'penalty': 'l1'}</td>\n",
       "      <td>0.778626</td>\n",
       "    </tr>\n",
       "    <tr>\n",
       "      <th>DecisionTreeClassifier</th>\n",
       "      <td>0.798046</td>\n",
       "      <td>{'max_depth': 3}</td>\n",
       "      <td>0.778626</td>\n",
       "    </tr>\n",
       "    <tr>\n",
       "      <th>KNeighborsClassifier</th>\n",
       "      <td>0.801319</td>\n",
       "      <td>{'n_neighbors': 16}</td>\n",
       "      <td>0.768448</td>\n",
       "    </tr>\n",
       "  </tbody>\n",
       "</table>\n",
       "</div>"
      ],
      "text/plain": [
       "                        cv_score  \\\n",
       "SVC                     0.791488   \n",
       "RandomForestClassifier  0.795866   \n",
       "LogisticRegression       0.77838   \n",
       "DecisionTreeClassifier  0.798046   \n",
       "KNeighborsClassifier    0.801319   \n",
       "\n",
       "                                                               params  \\\n",
       "SVC                     {'C': 10, 'gamma': 'scale', 'kernel': 'poly'}   \n",
       "RandomForestClassifier          {'max_depth': 11, 'n_estimators': 20}   \n",
       "LogisticRegression                        {'C': 0.1, 'penalty': 'l1'}   \n",
       "DecisionTreeClassifier                               {'max_depth': 3}   \n",
       "KNeighborsClassifier                              {'n_neighbors': 16}   \n",
       "\n",
       "                       test_set_score  \n",
       "SVC                           0.80916  \n",
       "RandomForestClassifier       0.788804  \n",
       "LogisticRegression           0.778626  \n",
       "DecisionTreeClassifier       0.778626  \n",
       "KNeighborsClassifier         0.768448  "
      ]
     },
     "execution_count": 159,
     "metadata": {},
     "output_type": "execute_result"
    }
   ],
   "source": [
    "results = pd.DataFrame(crossvalscores).T.sort_values(by='test_set_score',ascending=False)\n",
    "results"
   ]
  },
  {
   "attachments": {},
   "cell_type": "markdown",
   "id": "34d55dee",
   "metadata": {},
   "source": [
    "## Final Takeaways:\n",
    "- It appears that the SVC classifier, with the above hyperparameters, performs best on this dataset with no major signs of overfitting\n",
    "- Sex (male or female) seems to be the most important determinant for surviving or not, at least for these classifiers. Followed by variable class (indicative of wealth/status).\n",
    "- KNN performed well during the cross validation processs, but performance dropped on the final test_set score. Indicative of some overfitting\n",
    "- Overall this project was great for testing the techniques taught in this course and simply exploring an interesting, yet unfortunate, dataset\n",
    "- Related to my paper presentation, we were able to clearly identify (for some of the models) which features mattered most"
   ]
  },
  {
   "cell_type": "code",
   "execution_count": null,
   "id": "6464979e",
   "metadata": {},
   "outputs": [],
   "source": []
  }
 ],
 "metadata": {
  "kernelspec": {
   "display_name": "Python 3 (ipykernel)",
   "language": "python",
   "name": "python3"
  },
  "language_info": {
   "codemirror_mode": {
    "name": "ipython",
    "version": 3
   },
   "file_extension": ".py",
   "mimetype": "text/x-python",
   "name": "python",
   "nbconvert_exporter": "python",
   "pygments_lexer": "ipython3",
   "version": "3.9.7"
  }
 },
 "nbformat": 4,
 "nbformat_minor": 5
}
